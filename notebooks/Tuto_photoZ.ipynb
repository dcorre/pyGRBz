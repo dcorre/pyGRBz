{
 "cells": [
  {
   "cell_type": "code",
   "execution_count": null,
   "metadata": {},
   "outputs": [],
   "source": [
    "%reload_ext autoreload\n",
    "%autoreload 2"
   ]
  },
  {
   "cell_type": "code",
   "execution_count": null,
   "metadata": {},
   "outputs": [],
   "source": [
    "%matplotlib inline\n",
    "\n",
    "import matplotlib.pyplot as plt\n",
    "import numpy as np\n",
    "import os"
   ]
  },
  {
   "cell_type": "markdown",
   "metadata": {},
   "source": [
    "# Fit only one SED"
   ]
  },
  {
   "cell_type": "code",
   "execution_count": null,
   "metadata": {},
   "outputs": [],
   "source": [
    "from pyGRBz.pyGRBz import GRB_photoZ"
   ]
  },
  {
   "cell_type": "code",
   "execution_count": null,
   "metadata": {},
   "outputs": [],
   "source": [
    "# Load module\n",
    "photoz = GRB_photoZ(output_dir='/results/Tuto/SED/')"
   ]
  },
  {
   "cell_type": "code",
   "execution_count": null,
   "metadata": {},
   "outputs": [],
   "source": [
    "# Load the GRB SED stored in data/sed/\n",
    "photoz.load_data(data_dir='/data/sed/',data_name=['GRB050904'])"
   ]
  },
  {
   "cell_type": "code",
   "execution_count": null,
   "metadata": {},
   "outputs": [],
   "source": [
    "# Format data in order to apply galactic estinction and calculates the flux in Jansky to each observations\n",
    "photoz.formatting()"
   ]
  },
  {
   "cell_type": "code",
   "execution_count": null,
   "metadata": {},
   "outputs": [],
   "source": [
    "# Extract the SED at a given time.\n",
    "# First the data are fitted either with a single power law (SPL) or a broken power law (BPL)\n",
    "# Secondly the time at which to extract the SED can be either 'fixed' (needs to give through time_SED in seconds) or \n",
    "# computed to be the time at which the flux is maximum in the reddest band ('ReddestBand')\n",
    "\n",
    "# In case the input data is already a SED. THis function has to run in order to have the right\n",
    "# formatting for the follwing computations\n",
    "\n",
    "photoz.extract_sed(model='SPL',method='ReddestBand')\n",
    "#a.extract_sed(model='BPL',method='fixed',time_SED=70)"
   ]
  },
  {
   "cell_type": "code",
   "execution_count": null,
   "metadata": {},
   "outputs": [],
   "source": [
    "# Create flat priors\n",
    "priors=dict(z=[0,11],Av=[0,2],beta=[0,2],norm=[0,10])"
   ]
  },
  {
   "cell_type": "code",
   "execution_count": null,
   "metadata": {
    "scrolled": true
   },
   "outputs": [],
   "source": [
    "# Run the MCMC algorithm.\n",
    "# Select the extinction law to used: 'smc', 'lmc', 'mw', 'nodust'\n",
    "# Nthreads: number of threads to use in case of parallelisation\n",
    "# nwalkers: number of walkers\n",
    "# Nsteps1: number of steps for the first burn-in phase\n",
    "# Nsteps2: number of steps for the second burn-in phase\n",
    "# Nsteps3: number of steps for the production run\n",
    "# Select to add dust, gas in host and our galaxy\n",
    "# Select IGM transmission method: 'Madau' or 'Meiksin'\n",
    "\n",
    "\n",
    "photoz.fit(ext_law='smc',Nthreads=4,sampler_type='ensemble',nwalkers=30,Nsteps1=300,Nsteps2=1000,nburn=300,\n",
    "      Host_dust=True,Host_gas=False,MW_dust=False,MW_gas=False,DLA=False,igm_att='Meiksin',\n",
    "      clean_data=False,plot_all=False,plot_deleted=False,priors=priors)"
   ]
  },
  {
   "cell_type": "markdown",
   "metadata": {
    "collapsed": true
   },
   "source": [
    "# Fit only one Light Curve"
   ]
  },
  {
   "cell_type": "code",
   "execution_count": null,
   "metadata": {},
   "outputs": [],
   "source": [
    "from pyGRBz.pyGRBz import GRB_photoZ"
   ]
  },
  {
   "cell_type": "code",
   "execution_count": null,
   "metadata": {},
   "outputs": [],
   "source": [
    "# Load module\n",
    "photoz = GRB_photoZ(output_dir='/results/Tuto/LC/')"
   ]
  },
  {
   "cell_type": "code",
   "execution_count": null,
   "metadata": {},
   "outputs": [],
   "source": [
    "# Load the same GRB but with its light curve stored in data/lc/\n",
    "photoz.load_data(data_dir='/data/lc/',data_name=['GRB050904'])"
   ]
  },
  {
   "cell_type": "code",
   "execution_count": null,
   "metadata": {},
   "outputs": [],
   "source": [
    "# Format data in order to apply galactic estinction and calculates the flux in Jansky to each observations\n",
    "photoz.formatting()"
   ]
  },
  {
   "cell_type": "code",
   "execution_count": null,
   "metadata": {},
   "outputs": [],
   "source": [
    "# Extract the SED at a given time.\n",
    "# First the data are fitted either with a single power law (SPL) or a broken power law (BPL)\n",
    "# Secondly the time at which to extract the SED can be either 'fixed' (needs to give through time_SED in seconds) or \n",
    "# computed to be the time at which the flux is maximum in the reddest band ('ReddestBand')\n",
    "\n",
    "# In case the input data is already a SED. THis function has to run in order to have the right\n",
    "# formatting for the follwing computations\n",
    "\n",
    "photoz.extract_sed(model='SPL',method='ReddestBand')\n",
    "#a.extract_sed(model='BPL',method='fixed',time_SED=70)"
   ]
  },
  {
   "cell_type": "code",
   "execution_count": null,
   "metadata": {},
   "outputs": [],
   "source": [
    "# Create flat priors\n",
    "priors=dict(z=[0,11],Av=[0,2],beta=[0,2],norm=[0,10])"
   ]
  },
  {
   "cell_type": "code",
   "execution_count": null,
   "metadata": {},
   "outputs": [],
   "source": [
    "# Run the MCMC algorithm.\n",
    "# Select the extinction law to used: 'smc', 'lmc', 'mw', 'nodust'\n",
    "# Nthreads: number of threads to use in case of parallelisation\n",
    "# nwalkers: number of walkers\n",
    "# Nsteps1: number of steps for the first burn-in phase\n",
    "# Nsteps2: number of steps for the second burn-in phase\n",
    "# Nsteps3: number of steps for the production run\n",
    "# Select to add dust, gas in host and our galaxy\n",
    "# Select IGM transmission method: 'Madau' or 'Meiksin'\n",
    "\n",
    "\n",
    "photoz.fit(ext_law='smc',Nthreads=4,sampler_type='ensemble', nwalkers=30,Nsteps1=300,Nsteps2=1000,nburn=300,\n",
    "      Host_dust=True,Host_gas=False,MW_dust=False,MW_gas=False,DLA=False,igm_att='Meiksin',\n",
    "      clean_data=False,plot_all=False,plot_deleted=False,priors=priors)"
   ]
  },
  {
   "cell_type": "markdown",
   "metadata": {},
   "source": [
    "# Run code for multiple Targets"
   ]
  },
  {
   "cell_type": "code",
   "execution_count": null,
   "metadata": {},
   "outputs": [],
   "source": [
    "from pyGRBz.pyGRBz import GRB_photoZ"
   ]
  },
  {
   "cell_type": "code",
   "execution_count": null,
   "metadata": {},
   "outputs": [],
   "source": [
    "# Load module\n",
    "photoz = GRB_photoZ(output_dir='/results/Tuto/MultipleTargets/')"
   ]
  },
  {
   "cell_type": "code",
   "execution_count": null,
   "metadata": {},
   "outputs": [],
   "source": [
    "# Load as many targets as you want. It can be a mix of SEDs and light curves\n",
    "photoz.load_data(data_dir='/data/sed/',           \n",
    "            data_name=['GRB050904','GRB080825B','GRB080906'])\n",
    "\n",
    "            #data_name=['GRB050904','GRB080825B','GRB080906','GRB080913','GRB080916C','GRB081228','GRB090423',\n",
    "            #           'GRB090429B','GRB090516','GRB100518A','GRB110721A','GRB120712A','GRB120922A','GRB130215A',\n",
    "            #           'GRB130327A','GRB130408A','GRB130514A','GRB130606A','GRB130907A','GRB130925A','GRB131117A',\n",
    "            #           'GRB140419A','GRB140515A','GRB140518A','GRB140614A','GRB141109A','GRB150120B','GRB150910A',\n",
    "            #           'GRB151027B','GRB160203A','GRB160327A','GRB160625B'])\n",
    "            "
   ]
  },
  {
   "cell_type": "code",
   "execution_count": null,
   "metadata": {},
   "outputs": [],
   "source": [
    "# Format data in order to apply galactic estinction and calculates the flux in Jansky to each observations\n",
    "photoz.formatting()"
   ]
  },
  {
   "cell_type": "code",
   "execution_count": null,
   "metadata": {},
   "outputs": [],
   "source": [
    "# Extract the SED at a given time.\n",
    "# First the data are fitted either with a single power law (SPL) or a broken power law (BPL)\n",
    "# Secondly the time at which to extract the SED can be either 'fixed' (needs to give through time_SED in seconds) or \n",
    "# computed to be the time at which the flux is maximum in the reddest band ('ReddestBand')\n",
    "\n",
    "# In case the input data is already a SED. THis function has to run in order to have the right\n",
    "# formatting for the follwing computations\n",
    "\n",
    "photoz.extract_sed(model='SPL',method='ReddestBand')\n",
    "#a.extract_sed(model='BPL',method='fixed',time_SED=70)"
   ]
  },
  {
   "cell_type": "code",
   "execution_count": null,
   "metadata": {},
   "outputs": [],
   "source": [
    "# Create flat priors\n",
    "priors=dict(z=[0,11],Av=[0,2],beta=[0,2],norm=[0,10])"
   ]
  },
  {
   "cell_type": "code",
   "execution_count": null,
   "metadata": {},
   "outputs": [],
   "source": [
    "# Run the MCMC algorithm.\n",
    "# Select the extinction law to used: 'smc', 'lmc', 'mw', 'nodust'\n",
    "# Nthreads: number of threads to use in case of parallelisation\n",
    "# nwalkers: number of walkers\n",
    "# Nsteps1: number of steps for the first burn-in phase\n",
    "# Nsteps2: number of steps for the second burn-in phase\n",
    "# Nsteps3: number of steps for the production run\n",
    "# Select to add dust, gas in host and our galaxy\n",
    "# Select IGM transmission method: 'Madau' or 'Meiksin'\n",
    "\n",
    "\n",
    "photoz.fit(ext_law='smc',Nthreads=4,sampler_type= 'ensemble',nwalkers=30,Nsteps1=300,Nsteps2=1000,nburn=300,\n",
    "      Host_dust=True,Host_gas=False,MW_dust=False,MW_gas=False,DLA=False,igm_att='Meiksin',\n",
    "      clean_data=False,plot_all=False,plot_deleted=False,priors=priors)"
   ]
  },
  {
   "cell_type": "code",
   "execution_count": null,
   "metadata": {},
   "outputs": [],
   "source": [
    "# Plot all redshift estimations together\n",
    "photoz.plot_zsim_zphot(input_file='best_fits_all_smc',output_suffix='_smc_1sig',sigma=1,\n",
    "                  input_dir='/results/Tuto/MultipleTargets/',output_dir='/results/Tuto/MultipleTargets/')"
   ]
  },
  {
   "cell_type": "code",
   "execution_count": null,
   "metadata": {},
   "outputs": [],
   "source": []
  }
 ],
 "metadata": {
  "kernelspec": {
   "display_name": "Python 3",
   "language": "python",
   "name": "python3"
  },
  "language_info": {
   "codemirror_mode": {
    "name": "ipython",
    "version": 3
   },
   "file_extension": ".py",
   "mimetype": "text/x-python",
   "name": "python",
   "nbconvert_exporter": "python",
   "pygments_lexer": "ipython3",
   "version": "3.7.3"
  }
 },
 "nbformat": 4,
 "nbformat_minor": 1
}
